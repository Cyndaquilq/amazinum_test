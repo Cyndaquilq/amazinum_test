{
 "cells": [
  {
   "cell_type": "markdown",
   "metadata": {},
   "source": [
    "**```Task 3```**\n",
    "\n",
    "\n",
    "The probability of outcome ‘H’ (‘Head’) at flipping each of the 5 coins (call\n",
    "them m1, m2, m3, m4, m5) with a changed center of gravity equal [0.8, 0.9,\n",
    "0.1, 0.2, 0.3] respectively. One of the coins was chosen at random and the\n",
    "tests began. Determine the probability of ‘H’ in the next flip after 9 of the\n",
    "actual tests: [H T H H H T T H H] (here ‘T’(‘Tail’) is opposite side of the\n",
    "coin).\n",
    "For example, before the first test, the probability of \"H\" is 0.46 (according to\n",
    "the formula of full probability, taking into account the equivalence of the\n",
    "choice of one of the available coins). After the flip of ‘H’ in the first test, the\n",
    "probability of the hypothesis that the selected coin is m3 / m4 / m5\n",
    "decreased, and probabilities of hypothesis that m1 / m2, increased\n",
    "compared to initial 0.2 probability for each coin.\n",
    "Therefore, the probability to flip ‘H’ in the next test now equals to ~ 0.69.\n",
    "Similarly, after the evidence of ‘T’ in the next test, you need to re-compute\n",
    "the probability of flipping ‘H’ in the third flip, etc.\n"
   ]
  },
  {
   "cell_type": "code",
   "execution_count": 2,
   "metadata": {},
   "outputs": [],
   "source": [
    "import numpy as np\n"
   ]
  },
  {
   "cell_type": "code",
   "execution_count": null,
   "metadata": {},
   "outputs": [
    {
     "name": "stdout",
     "output_type": "stream",
     "text": [
      "[0.6913, 0.4408, 0.6438, 0.7671, 0.8187, 0.7286, 0.5546, 0.6906, 0.7684]\n",
      "0.7684\n"
     ]
    }
   ],
   "source": [
    "\n",
    "\n",
    "coins = np.array([0.8, 0.9, 0.1, 0.2, 0.3])  \n",
    "count = np.count_nonzero(coins)\n",
    "p_coin = np.array([1/count] * count)        \n",
    "results = ['H', 'T', 'H', 'H', 'H', 'T', 'T', 'H', 'H']\n",
    "\n",
    "probability = []\n",
    "for result in results:\n",
    "    if result == 'H':                                                          #Формули повної ймовірності та Баєса\n",
    "        p_coin = (coins * p_coin) / np.sum(coins * p_coin)\n",
    "        \n",
    "    else:\n",
    "        p_coin = ((1 - coins) * p_coin) / np.sum((1 - coins) * p_coin)\n",
    "   \n",
    "    p_next_heads = np.sum(coins * p_coin)\n",
    "    probability.append(round(p_next_heads, 4))\n",
    "\n",
    "print(probability)\n",
    "print(probability[8])"
   ]
  },
  {
   "cell_type": "code",
   "execution_count": null,
   "metadata": {},
   "outputs": [],
   "source": []
  }
 ],
 "metadata": {
  "kernelspec": {
   "display_name": "Python 3",
   "language": "python",
   "name": "python3"
  },
  "language_info": {
   "codemirror_mode": {
    "name": "ipython",
    "version": 3
   },
   "file_extension": ".py",
   "mimetype": "text/x-python",
   "name": "python",
   "nbconvert_exporter": "python",
   "pygments_lexer": "ipython3",
   "version": "3.12.5"
  }
 },
 "nbformat": 4,
 "nbformat_minor": 2
}
